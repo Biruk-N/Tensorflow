{
  "nbformat": 4,
  "nbformat_minor": 0,
  "metadata": {
    "colab": {
      "name": "Tensor.ipynb",
      "provenance": []
    },
    "kernelspec": {
      "name": "python3",
      "display_name": "Python 3"
    },
    "language_info": {
      "name": "python"
    }
  },
  "cells": [
    {
      "cell_type": "markdown",
      "source": [
        "# Supervised Model\n",
        "## training phase\n",
        "> inputs <br>⬇\n",
        ">\n",
        "> layer 1 <br>⬇\n",
        ">\n",
        "> layer 2 <br>⬇\n",
        ">\n",
        "> layer 3 <br>⬇\n",
        ">  <p> &emsp; &emsp; &emsp; &emsp; training</p> <br>\n",
        "> output ➡ loss function ⬆\n",
        "## tensor board ...\n",
        "## testing phase"
      ],
      "metadata": {
        "id": "G876Zx--r33K"
      }
    },
    {
      "cell_type": "markdown",
      "source": [
        "## competetional graph"
      ],
      "metadata": {
        "id": "gKhDP7Udu5BM"
      }
    },
    {
      "cell_type": "code",
      "source": [
        "import os\n",
        "import tensorflow as tf"
      ],
      "metadata": {
        "id": "tidUHGllw-yj"
      },
      "execution_count": 7,
      "outputs": []
    },
    {
      "cell_type": "code",
      "execution_count": 12,
      "metadata": {
        "colab": {
          "base_uri": "https://localhost:8080/"
        },
        "id": "ZTwNdLYsrsMF",
        "outputId": "81f48c12-c197-40fd-f510-f87b7e32fbac"
      },
      "outputs": [
        {
          "output_type": "stream",
          "name": "stdout",
          "text": [
            "[[5. 6. 7.]\n",
            " [6. 7. 8.]\n",
            " [7. 8. 9.]]\n"
          ]
        }
      ],
      "source": [
        "import os\n",
        "import tensorflow as tf\n",
        "\n",
        "# Turn off TensorFlow warning messages in program output\n",
        "os.environ['TF_CPP_MIN_LOG_LEVEL'] = '2'\n",
        "\n",
        "# Define computational graph\n",
        "import tensorflow.compat.v1 as tf\n",
        "tf.disable_v2_behavior()\n",
        "X = tf.placeholder(tf.float32, name=\"X\")\n",
        "Y = tf.placeholder(tf.float32, name=\"Y\")\n",
        "\n",
        "addition = tf.add(X, Y, name=\"addition\")\n",
        "\n",
        "\n",
        "# Create the session\n",
        "with tf.Session() as session:\n",
        "\n",
        "    result = session.run(addition, feed_dict={X: [[1], [2], [3]], Y: [4, 5, 6]})\n",
        "    print(result)"
      ]
    },
    {
      "cell_type": "markdown",
      "source": [
        "## option for loading data"
      ],
      "metadata": {
        "id": "hQrI_vPvyCsj"
      }
    }
  ]
}